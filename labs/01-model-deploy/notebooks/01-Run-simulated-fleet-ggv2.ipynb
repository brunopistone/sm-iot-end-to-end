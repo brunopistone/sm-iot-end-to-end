{
 "cells": [
  {
   "cell_type": "markdown",
   "metadata": {},
   "source": [
    "# Running the fleet of Virtual Wind Turbines and Edge Devices\n",
    "\n",
    "**SageMaker Studio Kernel**: Data Science\n",
    "\n",
    "After deploying the inference app on the 5 IoT Core devices(EC2 instances, in this case), its time to set up the virtual fleet of turbines and the simulator app along with it. In this exercise you will run a local application written in Python3 that simulates 5 Wind Turbines. This application will interact with IoT Core devices via IoT MQTT to exchange information.\n",
    "\n",
    "Here you'll be the **Wind Turbine Farm Operator**. It's possible to visualize the data flowing from the sensors to the ML Model and analyze the anomalies. Also, you'll be able to inject noise (pressing some buttons) in the data to simulate potential anomalies with the equipment.\n",
    "\n",
    "<table border=\"0\" cellpading=\"0\">\n",
    "    <tr>\n",
    "        <td align=\"center\"><b>STEP-BY-STEP</b></td>\n",
    "        <td align=\"center\"><b>APPLICATION ARCHITECTURE</b></td>\n",
    "    </tr>\n",
    "    <tr>\n",
    "        <td><img src=\"./../imgs/EdgeManagerWorkshop_Macro.png\" width=\"500px\"></img></td>\n",
    "        <td><img src=\"./../imgs/ggv2_lab4_app_arch.png\"  width=\"500px\"></img></td>\n",
    "    </tr>\n",
    "</table>  \n",
    "\n",
    "The components of the Simulator are:\n",
    " - [Simulator](simulator/simulator.py): Program that launches the virtual wind turbines and the edge devices. It also maintains a simple dashboard to show the data which is being sent for anomaly detection to the detector.\n",
    " - [Turbine](simulator/turbine.py): Virtual Wind Turbine. It reads the raw data collected from the 3D Prited Mini Turbine and stream it as a circular buffer. It also has a graphical representation in **IPython Widgets** that is rendered by the Simulator/Dashboard. It contains all the business logic of maintaining the virtual turbine.\n",
    " - [MQTT Client](simulator/mqttclient.py): An abstraction layer for MQTT communication providing convenience methods to publish and subscribe to topics."
   ]
  },
  {
   "cell_type": "markdown",
   "metadata": {},
   "source": [
    "First, let us restore variables stored in the previous exercise"
   ]
  },
  {
   "cell_type": "markdown",
   "metadata": {},
   "source": [
    "### Install some dependencies"
   ]
  },
  {
   "cell_type": "code",
   "execution_count": null,
   "metadata": {},
   "outputs": [],
   "source": [
    "!pip install ipywidgets\n",
    "!pip install awsiotsdk"
   ]
  },
  {
   "cell_type": "markdown",
   "metadata": {},
   "source": [
    "### Download the sensors data (streamed by the virtual wind turbines)\n",
    "\n",
    "The below cell checks if the data is already downloaded.\n",
    "\n",
    "if not, then it downloads the data. Otherwise it skips the downloading."
   ]
  },
  {
   "cell_type": "code",
   "execution_count": null,
   "metadata": {},
   "outputs": [],
   "source": [
    "import boto3\n",
    "from importlib import reload\n",
    "import logging\n",
    "import os\n",
    "import sys\n",
    "\n",
    "bucket_name = \"\""
   ]
  },
  {
   "cell_type": "code",
   "execution_count": null,
   "metadata": {},
   "outputs": [],
   "source": [
    "sm_client = boto3.client('sagemaker')"
   ]
  },
  {
   "cell_type": "code",
   "execution_count": null,
   "metadata": {},
   "outputs": [],
   "source": [
    "logging.basicConfig(level=logging.INFO)\n",
    "LOGGER = logging.getLogger(__name__)"
   ]
  },
  {
   "cell_type": "markdown",
   "metadata": {},
   "source": [
    "# Simulating The Wind Turbine Farm\n",
    "Now its time to run our simulator and start playing with the turbines and with the anomalies\n",
    " > After clicking on **Start**, each turbine will start buffering some data. It takes a few seconds but after completing this process, the application runs in real-time   \n",
    " > Try to press some buttons while the simulation is running, to inject noise in the data and see some anomalies  \n"
   ]
  },
  {
   "cell_type": "code",
   "execution_count": null,
   "metadata": {},
   "outputs": [],
   "source": [
    "sys.path.insert(0, './../fleet_simulator')"
   ]
  },
  {
   "cell_type": "code",
   "execution_count": null,
   "metadata": {},
   "outputs": [],
   "source": [
    "import mqttclient\n",
    "import simulator\n",
    "import turbine"
   ]
  },
  {
   "cell_type": "code",
   "execution_count": null,
   "metadata": {},
   "outputs": [],
   "source": [
    "reload(mqttclient)\n",
    "reload(turbine)\n",
    "reload(simulator)\n",
    "\n",
    "simulator = simulator.WindTurbineFarmSimulator(2)"
   ]
  },
  {
   "cell_type": "code",
   "execution_count": null,
   "metadata": {},
   "outputs": [],
   "source": [
    "simulator.start()\n",
    "simulator.show()"
   ]
  },
  {
   "cell_type": "markdown",
   "metadata": {},
   "source": [
    "Once your experiment is finished, stop the simulator. This will in turn also stops/halts all the turbines."
   ]
  },
  {
   "cell_type": "code",
   "execution_count": null,
   "metadata": {},
   "outputs": [],
   "source": [
    "simulator.halt()"
   ]
  },
  {
   "cell_type": "markdown",
   "metadata": {},
   "source": [
    " > If you want to experiment with the deployment process, with the wind farm running, go back to [Exercise #4](./../../04-Package-Deploy/04-package-using-ggv2.ipynb#Building-the-Deployment-Package-SageMaker-Edge-Manager) (in the last cells), replace the variable **model_version** by the constant (string) '2.0' in the Json document used by the IoT Job. Then, create a new IoT Job to simulate how to deploy new versions of the model. Go back to this exercise to see the results."
   ]
  },
  {
   "cell_type": "markdown",
   "metadata": {},
   "source": [
    "## Cleanup\n",
    "Run the next cell only if you already finished exploring/hacking the content of the workshop.  \n",
    "This code will delete all the resouces created so far"
   ]
  },
  {
   "cell_type": "code",
   "execution_count": null,
   "metadata": {},
   "outputs": [],
   "source": [
    "import boto3\n",
    "from botocore.exceptions import ClientError\n",
    "import time\n",
    "from shutil import rmtree"
   ]
  },
  {
   "cell_type": "code",
   "execution_count": null,
   "metadata": {},
   "outputs": [],
   "source": [
    "iot_client = boto3.client('iot')\n",
    "sm_client = boto3.client('sagemaker')\n",
    "s3_client = boto3.client('s3')\n",
    "s3_resource = boto3.resource('s3')\n",
    "ggv2_client = boto3.client('greengrassv2')"
   ]
  },
  {
   "cell_type": "code",
   "execution_count": null,
   "metadata": {},
   "outputs": [],
   "source": [
    "device_fleet_suffix = \"fleet-1\"\n",
    "thing_group_name = \"wind-ec2-fleet\"\n",
    "\n",
    "policy_name='WindTurbineFarmPolicy-{}'.format(device_fleet_suffix)\n",
    "fleet_name='wind-turbine-farm-{}'.format(device_fleet_suffix)\n",
    "\n",
    "account_id = boto3.client('sts').get_caller_identity().get('Account')\n",
    "region = boto3.session.Session().region_name"
   ]
  },
  {
   "cell_type": "code",
   "execution_count": null,
   "metadata": {},
   "outputs": [],
   "source": [
    "ggv2_client.list_deployments(\n",
    "    targetArn=\"arn:aws:iot:{}:{}:thinggroup/{}\".format(\n",
    "        region,\n",
    "        account_id,\n",
    "        thing_group_name\n",
    "    )\n",
    ")"
   ]
  },
  {
   "cell_type": "code",
   "execution_count": null,
   "metadata": {},
   "outputs": [],
   "source": [
    "deployment_id = \"\""
   ]
  },
  {
   "cell_type": "code",
   "execution_count": null,
   "metadata": {},
   "outputs": [],
   "source": [
    "#Cancel the deployment of greengrass v2\n",
    "ggv2_client.cancel_deployment(deploymentId=deployment_id)"
   ]
  },
  {
   "cell_type": "markdown",
   "metadata": {},
   "source": [
    "### Get Model Package Version for model component version\n",
    "\n",
    "Since model component version is aligned with Model Registries version, we are retrieving those information"
   ]
  },
  {
   "cell_type": "code",
   "execution_count": null,
   "metadata": {},
   "outputs": [],
   "source": [
    "model_package_group_arn = \"mlops-iot-package-group\""
   ]
  },
  {
   "cell_type": "code",
   "execution_count": null,
   "metadata": {},
   "outputs": [],
   "source": [
    "def describe_model_package(model_package_arn):\n",
    "    try:\n",
    "        model_package = sm_client.describe_model_package(\n",
    "            ModelPackageName=model_package_arn\n",
    "        )\n",
    "\n",
    "        LOGGER.info(\"{}\".format(model_package))\n",
    "\n",
    "        if len(model_package) == 0:\n",
    "            error_message = (\"No ModelPackage found for: {}\".format(model_package_arn))\n",
    "            LOGGER.error(\"{}\".format(error_message))\n",
    "\n",
    "            raise Exception(error_message)\n",
    "\n",
    "        return model_package\n",
    "    except ClientError as e:\n",
    "        stacktrace = traceback.format_exc()\n",
    "        error_message = e.response[\"Error\"][\"Message\"]\n",
    "        LOGGER.error(\"{}\".format(stacktrace))\n",
    "\n",
    "        raise Exception(error_message)"
   ]
  },
  {
   "cell_type": "code",
   "execution_count": null,
   "metadata": {},
   "outputs": [],
   "source": [
    "def get_approved_package(model_package_group_name):\n",
    "    \"\"\"Gets the latest approved model package for a model package group.\n",
    "\n",
    "    Args:\n",
    "        model_package_group_name: The model package group name.\n",
    "\n",
    "    Returns:\n",
    "        The SageMaker Model Package ARN.\n",
    "    \"\"\"\n",
    "    try:\n",
    "        # Get the latest approved model package\n",
    "        response = sm_client.list_model_packages(\n",
    "            ModelPackageGroupName=model_package_group_name,\n",
    "            ModelApprovalStatus=\"Approved\",\n",
    "            SortBy=\"CreationTime\",\n",
    "            SortOrder=\"Descending\",\n",
    "            MaxResults=1,\n",
    "        )\n",
    "        approved_packages = response[\"ModelPackageSummaryList\"]\n",
    "\n",
    "        # Return error if no packages found\n",
    "        if len(approved_packages) == 0:\n",
    "            error_message = (\"No approved ModelPackage found for ModelPackageGroup: {}\".format(model_package_group_name))\n",
    "            LOGGER.error(\"{}\".format(error_message))\n",
    "\n",
    "            raise Exception(error_message)\n",
    "\n",
    "        model_package = approved_packages[0]\n",
    "        LOGGER.info(\"Identified the latest approved model package: {}\".format(model_package))\n",
    "\n",
    "        return model_package\n",
    "    except ClientError as e:\n",
    "        stacktrace = traceback.format_exc()\n",
    "        error_message = e.response[\"Error\"][\"Message\"]\n",
    "        LOGGER.error(\"{}\".format(stacktrace))\n",
    "\n",
    "        raise Exception(error_message)"
   ]
  },
  {
   "cell_type": "code",
   "execution_count": null,
   "metadata": {},
   "outputs": [],
   "source": [
    "model_package_approved = get_approved_package(model_package_group_arn)\n",
    "model_package = describe_model_package(model_package_approved[\"ModelPackageArn\"])"
   ]
  },
  {
   "cell_type": "code",
   "execution_count": null,
   "metadata": {},
   "outputs": [],
   "source": [
    "inference_component_name = \"aws.samples.windturbine.detector\"\n",
    "inference_component_version = \"\"\n",
    "\n",
    "model_component_name = \"aws.samples.windturbine.model\"\n",
    "model_component_version = \"{}.0.0\".format(model_package[\"ModelPackageVersion\"])"
   ]
  },
  {
   "cell_type": "code",
   "execution_count": null,
   "metadata": {},
   "outputs": [],
   "source": [
    "# delete the ggv2 components\n",
    "ggv2_client.delete_component(arn='arn:aws:greengrass:{}:{}:components:{}:versions:{}'.format(\n",
    "    region,\n",
    "    account_id,\n",
    "    inference_component_name,\n",
    "    inference_component_version\n",
    "))\n",
    "\n",
    "ggv2_client.delete_component(arn='arn:aws:greengrass:{}:{}:components:{}:versions:{}'.format(\n",
    "    region,\n",
    "    account_id,\n",
    "    model_component_name,\n",
    "    model_component_version\n",
    "))"
   ]
  },
  {
   "cell_type": "code",
   "execution_count": null,
   "metadata": {},
   "outputs": [],
   "source": [
    "# now deregister the devices from the fleet\n",
    "resp = sm_client.list_devices(DeviceFleetName=fleet_name)\n",
    "devices = [d['DeviceName'] for d in resp['DeviceSummaries']]\n",
    "if len(devices) > 0:\n",
    "    sm_client.deregister_devices(DeviceFleetName=fleet_name, DeviceNames=devices)"
   ]
  },
  {
   "cell_type": "code",
   "execution_count": null,
   "metadata": {},
   "outputs": [],
   "source": [
    "# now deregister the devices from the fleet\n",
    "for i,cert_arn in enumerate(iot_client.list_targets_for_policy(policyName=policy_name)['targets']):\n",
    "    for t in iot_client.list_principal_things(principal=cert_arn)['things']:\n",
    "        iot_client.detach_thing_principal(thingName=t, principal=cert_arn)\n",
    "    iot_client.detach_policy(policyName=policy_name, target=cert_arn)\n",
    "    certificateId = cert_arn.split('/')[-1]\n",
    "    iot_client.update_certificate(certificateId=certificateId, newStatus='INACTIVE')\n",
    "    iot_client.delete_certificate(certificateId=certificateId)"
   ]
  },
  {
   "cell_type": "code",
   "execution_count": null,
   "metadata": {},
   "outputs": [],
   "source": [
    "iot_client.delete_role_alias(roleAlias='SageMakerEdge-%s' % fleet_name)"
   ]
  },
  {
   "cell_type": "code",
   "execution_count": null,
   "metadata": {},
   "outputs": [],
   "source": [
    "s3_client.delete_object(\n",
    "    Bucket=bucket_name,\n",
    "    Key=\"wind_turbine_agent/config.tgz\"\n",
    ")"
   ]
  },
  {
   "cell_type": "markdown",
   "metadata": {},
   "source": [
    "Mission Complete!  \n",
    "Congratulations! :)"
   ]
  }
 ],
 "metadata": {
  "instance_type": "ml.t3.medium",
  "kernelspec": {
   "display_name": "Python 3 (Data Science)",
   "language": "python",
   "name": "python3__SAGEMAKER_INTERNAL__arn:aws:sagemaker:eu-west-1:470317259841:image/datascience-1.0"
  },
  "language_info": {
   "codemirror_mode": {
    "name": "ipython",
    "version": 3
   },
   "file_extension": ".py",
   "mimetype": "text/x-python",
   "name": "python",
   "nbconvert_exporter": "python",
   "pygments_lexer": "ipython3",
   "version": "3.7.10"
  }
 },
 "nbformat": 4,
 "nbformat_minor": 4
}
