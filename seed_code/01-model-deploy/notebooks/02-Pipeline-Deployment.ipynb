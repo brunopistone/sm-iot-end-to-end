{
 "cells": [
  {
   "cell_type": "markdown",
   "metadata": {},
   "source": [
    "# Deployment Pipeline\n",
    "\n",
    "**SageMaker Studio Kernel**: Data Science\n",
    "\n",
    "In this exercise you will do:\n",
    " - Run the pipeline, used through CI/CD, for automating the steps implemented in the previous lab"
   ]
  },
  {
   "cell_type": "markdown",
   "metadata": {},
   "source": [
    "***"
   ]
  },
  {
   "cell_type": "markdown",
   "metadata": {},
   "source": [
    "## Part 1/3 - Setup\n",
    "Here we'll import some libraries and define some variables."
   ]
  },
  {
   "cell_type": "code",
   "execution_count": 1,
   "metadata": {},
   "outputs": [],
   "source": [
    "import boto3\n",
    "import json\n",
    "import logging\n",
    "import os\n",
    "import sagemaker\n",
    "from sagemaker import get_execution_role\n",
    "import sys"
   ]
  },
  {
   "cell_type": "code",
   "execution_count": 2,
   "metadata": {},
   "outputs": [],
   "source": [
    "sys.path.insert(0, os.path.abspath('./../mlpipelines'))"
   ]
  },
  {
   "cell_type": "code",
   "execution_count": 3,
   "metadata": {},
   "outputs": [],
   "source": [
    "from deployment.pipeline import get_pipeline"
   ]
  },
  {
   "cell_type": "code",
   "execution_count": 4,
   "metadata": {},
   "outputs": [],
   "source": [
    "s3_client = boto3.client('s3')\n",
    "sm_client = boto3.client('sagemaker')"
   ]
  },
  {
   "cell_type": "code",
   "execution_count": 5,
   "metadata": {},
   "outputs": [],
   "source": [
    "logging.basicConfig(level=logging.INFO)\n",
    "LOGGER = logging.getLogger(__name__)"
   ]
  },
  {
   "cell_type": "code",
   "execution_count": 6,
   "metadata": {},
   "outputs": [
    {
     "name": "stdout",
     "output_type": "stream",
     "text": [
      "Hit:1 http://deb.debian.org/debian buster InRelease\n",
      "Hit:2 http://security.debian.org/debian-security buster/updates InRelease\n",
      "Hit:3 http://deb.debian.org/debian buster-updates InRelease\n",
      "Reading package lists... Done\u001b[33m\u001b[33m\n",
      "Building dependency tree       \n",
      "Reading state information... Done\n",
      "45 packages can be upgraded. Run 'apt list --upgradable' to see them.\n",
      "Reading package lists... Done\n",
      "Building dependency tree       \n",
      "Reading state information... Done\n",
      "zip is already the newest version (3.0-11+b1).\n",
      "0 upgraded, 0 newly installed, 0 to remove and 45 not upgraded.\n"
     ]
    }
   ],
   "source": [
    "! apt update && apt install zip"
   ]
  },
  {
   "cell_type": "code",
   "execution_count": 7,
   "metadata": {},
   "outputs": [
    {
     "name": "stdout",
     "output_type": "stream",
     "text": [
      "  adding: inference/ (stored 0%)\n",
      "  adding: inference/agent_pb2_grpc.py (deflated 85%)\n",
      "  adding: inference/windturbine.py (deflated 67%)\n",
      "  adding: inference/edgeagentclient.py (deflated 71%)\n",
      "  adding: inference/.ipynb_checkpoints/ (stored 0%)\n",
      "  adding: inference/.ipynb_checkpoints/windturbine-checkpoint.py (deflated 67%)\n",
      "  adding: inference/.ipynb_checkpoints/edgeagentclient-checkpoint.py (deflated 71%)\n",
      "  adding: inference/agent_pb2.py (deflated 90%)\n",
      "  adding: inference/util.py (deflated 54%)\n",
      "  adding: inference/messaging_client.py (deflated 72%)\n",
      "  adding: inference/ggv2_client.py (deflated 70%)\n",
      "  adding: run.py (deflated 50%)\n",
      "  adding: statistics/ (stored 0%)\n",
      "  adding: statistics/std.npy (deflated 32%)\n",
      "  adding: statistics/mean.npy (deflated 33%)\n",
      "  adding: statistics/raw_std.npy (deflated 32%)\n",
      "  adding: statistics/thresholds.npy (deflated 32%)\n",
      "  adding: stop.py (deflated 48%)\n"
     ]
    }
   ],
   "source": [
    "!cd ./../algorithms/inference/aws.samples.windturbine.detector && \\\n",
    " rm -rf ./../../dist && \\\n",
    " mkdir ./../../dist && \\\n",
    " zip -r detector.zip * && mv detector.zip ./../../dist"
   ]
  },
  {
   "cell_type": "markdown",
   "metadata": {},
   "source": [
    "***"
   ]
  },
  {
   "cell_type": "markdown",
   "metadata": {},
   "source": [
    "## Part 2/3 - Create Amazon SageMaker Pipeline"
   ]
  },
  {
   "cell_type": "markdown",
   "metadata": {},
   "source": [
    "### Pipeline Parameters"
   ]
  },
  {
   "cell_type": "code",
   "execution_count": 8,
   "metadata": {},
   "outputs": [],
   "source": [
    "region = boto3.session.Session().region_name\n",
    "role = sagemaker.get_execution_role()\n",
    "\n",
    "model_package_group_name = \"mlops-iot-package-group\"\n",
    "\n",
    "bucket_name = \"\"\n",
    "component_name = \"aws.samples.windturbine.model\"\n",
    "device_fleet_name = \"wind-turbine-farm\"\n",
    "device_fleet_suffix = \"fleet-1\"\n",
    "inference_recipes_entrypoint = \"./../algorithms/inference/recipes/aws.samples.windturbine.detector-recipe.json\"\n",
    "model_name = \"WindTurbineAnomalyDetection\"\n",
    "model_package_group_arn = \"mlops-iot-package-group\"\n",
    "n_features = 6\n",
    "thing_group_name = \"wind-ec2-fleet\"\n",
    "pipeline_name = \"MLOpsIoTDeploy\"\n",
    "\n",
    "inference_package = \"./../algorithms/dist/detector.zip\""
   ]
  },
  {
   "cell_type": "markdown",
   "metadata": {},
   "source": [
    "### Training pipeline"
   ]
  },
  {
   "cell_type": "markdown",
   "metadata": {},
   "source": [
    "#### Get pipeline definition"
   ]
  },
  {
   "cell_type": "code",
   "execution_count": 9,
   "metadata": {},
   "outputs": [
    {
     "name": "stderr",
     "output_type": "stream",
     "text": [
      "INFO:deployment.pipeline:Identified the latest approved model package: {'ModelPackageGroupName': 'mlops-iot-package-group', 'ModelPackageVersion': 5, 'ModelPackageArn': 'arn:aws:sagemaker:eu-west-1:015770912575:model-package/mlops-iot-package-group/5', 'CreationTime': datetime.datetime(2022, 5, 26, 7, 33, 39, 829000, tzinfo=tzlocal()), 'ModelPackageStatus': 'Completed', 'ModelApprovalStatus': 'Approved'}\n",
      "INFO:deployment.pipeline:{'ModelPackageGroupName': 'mlops-iot-package-group', 'ModelPackageVersion': 5, 'ModelPackageArn': 'arn:aws:sagemaker:eu-west-1:015770912575:model-package/mlops-iot-package-group/5', 'CreationTime': datetime.datetime(2022, 5, 26, 7, 33, 39, 829000, tzinfo=tzlocal()), 'InferenceSpecification': {'Containers': [{'Image': '763104351884.dkr.ecr.eu-west-1.amazonaws.com/pytorch-inference:1.6.0-cpu-py3', 'ImageDigest': 'sha256:f547f2b801c59a741d47a81f50fbddfa4798d0ad6e48f9933a0904378ef4df9a', 'ModelDataUrl': 's3://isengard-bpistone-ml-iot-dev/models/pipelines-k0ej8g216cbk-WindTurbineAnomalyTr-IKkhYAd8Dw/output/model.tar.gz'}], 'SupportedTransformInstanceTypes': ['ml.c5.xlarge'], 'SupportedRealtimeInferenceInstanceTypes': ['ml.c5.xlarge'], 'SupportedContentTypes': ['application/json'], 'SupportedResponseMIMETypes': ['application/json']}, 'ModelPackageStatus': 'Completed', 'ModelPackageStatusDetails': {'ValidationStatuses': [], 'ImageScanStatuses': []}, 'CertifyForMarketplace': False, 'ModelApprovalStatus': 'Approved', 'MetadataProperties': {'GeneratedBy': 'arn:aws:sagemaker:eu-west-1:015770912575:pipeline/mlopsiotbuildtrain/execution/k0ej8g216cbk'}, 'LastModifiedTime': datetime.datetime(2022, 5, 26, 9, 4, 52, 526000, tzinfo=tzlocal()), 'LastModifiedBy': {'UserProfileArn': 'arn:aws:sagemaker:eu-west-1:015770912575:user-profile/d-aweqvj69og61/data-scientist', 'UserProfileName': 'data-scientist', 'DomainId': 'd-aweqvj69og61'}, 'ResponseMetadata': {'RequestId': 'ff339faf-f7fb-4d3a-a4cf-ff0bf8872bd2', 'HTTPStatusCode': 200, 'HTTPHeaders': {'x-amzn-requestid': 'ff339faf-f7fb-4d3a-a4cf-ff0bf8872bd2', 'content-type': 'application/x-amz-json-1.1', 'content-length': '1290', 'date': 'Thu, 26 May 2022 13:35:41 GMT'}, 'RetryAttempts': 0}}\n"
     ]
    },
    {
     "name": "stdout",
     "output_type": "stream",
     "text": [
      "Running...\n",
      "Running...\n",
      "Running...\n",
      "Running...\n",
      "Running...\n",
      "Running...\n",
      "Running...\n",
      "Running...\n",
      "Running...\n",
      "Running...\n",
      "Running...\n",
      "Running...\n",
      "Running...\n",
      "Running...\n",
      "Running...\n",
      "Running...\n",
      "Running...\n",
      "Running...\n",
      "Running...\n",
      "Running...\n",
      "Running...\n",
      "Running...\n",
      "Running...\n",
      "Running...\n",
      "Running...\n",
      "Running...\n",
      "Running...\n",
      "Running...\n",
      "Running...\n",
      "Running...\n",
      "Running...\n",
      "Running...\n",
      "Running...\n",
      "Running...\n",
      "Running...\n",
      "Running...\n",
      "Running...\n",
      "Running...\n",
      "Running...\n",
      "Running...\n",
      "Running...\n",
      "Running...\n",
      "Running...\n",
      "Running...\n",
      "Running...\n"
     ]
    },
    {
     "name": "stderr",
     "output_type": "stream",
     "text": [
      "INFO:deployment.pipeline:Compilation Job: {'CompilationJobName': 'MLOpsIoTDeploy-1653572142740', 'CompilationJobArn': 'arn:aws:sagemaker:eu-west-1:015770912575:compilation-job/MLOpsIoTDeploy-1653572142740', 'CompilationJobStatus': 'COMPLETED', 'CompilationStartTime': datetime.datetime(2022, 5, 26, 13, 37, 23, tzinfo=tzlocal()), 'CompilationEndTime': datetime.datetime(2022, 5, 26, 13, 39, 29, tzinfo=tzlocal()), 'StoppingCondition': {'MaxRuntimeInSeconds': 900}, 'CreationTime': datetime.datetime(2022, 5, 26, 13, 35, 42, 749000, tzinfo=tzlocal()), 'LastModifiedTime': datetime.datetime(2022, 5, 26, 13, 39, 29, tzinfo=tzlocal()), 'ModelArtifacts': {'S3ModelArtifacts': 's3://isengard-bpistone-ml-iot-dev/models/optimized/model-LINUX_X86_64.tar.gz'}, 'ModelDigests': {'ArtifactDigest': 'blake2s:79c68ec6e931bd13ffa5ceb4878ad7c2c8596e247ad9fc2cafc0a2e01af91815'}, 'RoleArn': 'arn:aws:iam::015770912575:role/mlops-sagemaker-execution-role', 'InputConfig': {'S3Uri': 's3://isengard-bpistone-ml-iot-dev/models/pipelines-k0ej8g216cbk-WindTurbineAnomalyTr-IKkhYAd8Dw/output/model.tar.gz', 'DataInputConfig': '{\"input0\":[1,6,10,10]}', 'Framework': 'PYTORCH'}, 'OutputConfig': {'S3OutputLocation': 's3://isengard-bpistone-ml-iot-dev/models/optimized/', 'TargetPlatform': {'Os': 'LINUX', 'Arch': 'X86_64'}}, 'ResponseMetadata': {'RequestId': '5fd37594-e60e-40f9-bc5b-45d38b5821ea', 'HTTPStatusCode': 200, 'HTTPHeaders': {'x-amzn-requestid': '5fd37594-e60e-40f9-bc5b-45d38b5821ea', 'content-type': 'application/x-amz-json-1.1', 'content-length': '1028', 'date': 'Thu, 26 May 2022 13:39:32 GMT', 'connection': 'close'}, 'RetryAttempts': 0}}\n"
     ]
    },
    {
     "name": "stdout",
     "output_type": "stream",
     "text": [
      "COMPLETED MLOpsIoTDeploy-1653572142740\n",
      "Running...\n",
      "Running...\n"
     ]
    },
    {
     "name": "stderr",
     "output_type": "stream",
     "text": [
      "INFO:deployment.pipeline:Packaging Job: {'EdgePackagingJobArn': 'arn:aws:sagemaker:eu-west-1:015770912575:edge-packaging-job/MLOpsIoTDeploy-1653572373368', 'EdgePackagingJobName': 'MLOpsIoTDeploy-1653572373368', 'CompilationJobName': 'MLOpsIoTDeploy-1653572142740', 'ModelName': 'WindTurbineAnomalyDetection', 'ModelVersion': '5.0.0', 'RoleArn': 'arn:aws:iam::015770912575:role/mlops-sagemaker-execution-role', 'OutputConfig': {'S3OutputLocation': 's3://isengard-bpistone-ml-iot-dev/models/packaged', 'PresetDeploymentType': 'GreengrassV2Component', 'PresetDeploymentConfig': '{\"PlatformOS\": \"*\", \"ComponentName\": \"aws.samples.windturbine.model\", \"PlatformArchitecture\": \"*\", \"ComponentVersion\": \"5.0.0\"}'}, 'EdgePackagingJobStatus': 'COMPLETED', 'CreationTime': datetime.datetime(2022, 5, 26, 13, 39, 33, 403000, tzinfo=tzlocal()), 'LastModifiedTime': datetime.datetime(2022, 5, 26, 13, 39, 43, tzinfo=tzlocal()), 'ModelArtifact': 's3://isengard-bpistone-ml-iot-dev/models/packaged/WindTurbineAnomalyDetection-5.0.0.tar.gz', 'ModelSignature': 'XIDyBPNU9dijkV0l3vXpOwyTdUPkt34oljGVJSdpO3nDxy9boLpeZFcIFW8chsZw6TDzdABz/Qo/GOCoJVIiVKD7crbyNnbRQmqUi654nbOJDEX5WOF84UtpAIEcI/LyTreH/U0/wnTN4NmQ3hsr8KZJLLXhWyo8n9H3oj1L5eaNuDtoqa1Gi1apErztwxRNYfsjf+1PSdQCaOb2WQAGFRgKL90npmsmvFAp/nA0sG5GjCCT5903oiof1VRQulfE8yD/ruSZEuuPH1QAHZvFA0aPXvD179+XcFvYHlYhFuz4GjYJpFTQjVOe7P3Dq37p2qYUdgRVHByc62zq6lwa0w==', 'PresetDeploymentOutput': {'Type': 'GreengrassV2Component', 'Artifact': 'arn:aws:greengrass:eu-west-1:015770912575:components:aws.samples.windturbine.model:versions:5.0.0', 'Status': 'COMPLETED', 'StatusMessage': 'NONE'}, 'ResponseMetadata': {'RequestId': 'f277c9f7-f957-47a7-8344-ac8898d10e78', 'HTTPStatusCode': 200, 'HTTPHeaders': {'x-amzn-requestid': 'f277c9f7-f957-47a7-8344-ac8898d10e78', 'content-type': 'application/x-amz-json-1.1', 'content-length': '1453', 'date': 'Thu, 26 May 2022 13:39:43 GMT'}, 'RetryAttempts': 0}}\n",
      "INFO:deployment.pipeline:Create Component Version for Inference code\n"
     ]
    },
    {
     "name": "stdout",
     "output_type": "stream",
     "text": [
      "COMPLETED MLOpsIoTDeploy-1653572142740\n"
     ]
    },
    {
     "name": "stderr",
     "output_type": "stream",
     "text": [
      "INFO:deployment.pipeline:Thing group found\n",
      "INFO:deployment.pipeline:Creating the directory structure for the agent\n",
      "INFO:deployment.pipeline:Processing the agents...\n",
      "INFO:deployment.pipeline:Device was already registered on SageMaker Edge Manager\n",
      "INFO:deployment.pipeline:Finally, let's create the agent config file\n",
      "INFO:deployment.pipeline:Device was already registered on SageMaker Edge Manager\n",
      "INFO:deployment.pipeline:Finally, let's create the agent config file\n",
      "INFO:deployment.pipeline:Creating the final package...\n",
      "INFO:deployment.pipeline:Uploading to S3\n",
      "INFO:deployment.pipeline:Done!\n",
      "INFO:deployment.pipeline:Updating SageMaker Edge Manager Device Fleet\n",
      "INFO:deployment.pipeline:Update Device Fleet: {'ResponseMetadata': {'RequestId': '44f9f32f-a474-4a0c-8efb-7ce75fa9899e', 'HTTPStatusCode': 200, 'HTTPHeaders': {'x-amzn-requestid': '44f9f32f-a474-4a0c-8efb-7ce75fa9899e', 'content-type': 'application/x-amz-json-1.1', 'content-length': '0', 'date': 'Thu, 26 May 2022 13:39:46 GMT'}, 'RetryAttempts': 0}}\n",
      "INFO:deployment.pipeline:Start Deployment\n",
      "INFO:deployment.pipeline:GreenGrass Deployment Job ID: 52bf9a04-6e99-4bda-a49b-5478ad8a6dc9\n"
     ]
    }
   ],
   "source": [
    "pipeline = get_pipeline(\n",
    "    region,\n",
    "    bucket_name,\n",
    "    component_name,\n",
    "    device_fleet_name,\n",
    "    device_fleet_suffix,\n",
    "    inference_recipes_entrypoint,\n",
    "    model_name,\n",
    "    model_package_group_arn,\n",
    "    n_features,\n",
    "    thing_group_name,\n",
    "    inference_package,\n",
    "    role,\n",
    "    pipeline_name=\"MLOpsIoTDeploy\"\n",
    ")"
   ]
  },
  {
   "cell_type": "markdown",
   "metadata": {},
   "source": [
    "Note that the above cell only shows that that whatever we asked greengrass to deploy,  it did that successfully without any errors. \n",
    "\n",
    "To know whether the core device is running the detector components as expected, SSH into the EC2 instances via [Session Manager](https://docs.aws.amazon.com/systems-manager/latest/userguide/session-manager.html) and running the following command:    \n",
    "\n",
    "`sudo tail -1000f /greengrass/v2/logs/aws.samples.windturbine.detector.log`\n",
    "\n",
    "if you see a messaging at the end of the log saying: `waiting for data...`, it means the deployment of the inference component is successful and is reay to accept data from the wind turbines."
   ]
  }
 ],
 "metadata": {
  "instance_type": "ml.t3.medium",
  "interpreter": {
   "hash": "aee8b7b246df8f9039afb4144a1f6fd8d2ca17a180786b69acc140d282b71a49"
  },
  "kernelspec": {
   "display_name": "Python 3 (Data Science)",
   "language": "python",
   "name": "python3__SAGEMAKER_INTERNAL__arn:aws:sagemaker:eu-west-1:470317259841:image/datascience-1.0"
  },
  "language_info": {
   "codemirror_mode": {
    "name": "ipython",
    "version": 3
   },
   "file_extension": ".py",
   "mimetype": "text/x-python",
   "name": "python",
   "nbconvert_exporter": "python",
   "pygments_lexer": "ipython3",
   "version": "3.7.10"
  }
 },
 "nbformat": 4,
 "nbformat_minor": 4
}
