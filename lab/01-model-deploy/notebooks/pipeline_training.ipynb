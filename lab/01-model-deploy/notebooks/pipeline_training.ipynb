{
 "cells": [
  {
   "cell_type": "markdown",
   "metadata": {},
   "source": [
    "# Pipeline training\n",
    "\n",
    "This notebook is used for triggering the training pipeline on the basis of the steps described in the notebook mlops_dnn.ipynb"
   ]
  },
  {
   "cell_type": "code",
   "execution_count": null,
   "metadata": {},
   "outputs": [],
   "source": [
    "import boto3\n",
    "import json\n",
    "import logging\n",
    "import os\n",
    "from sagemaker import get_execution_role\n",
    "import sys"
   ]
  },
  {
   "cell_type": "code",
   "execution_count": null,
   "metadata": {},
   "outputs": [],
   "source": [
    "sys.path.insert(0, os.path.abspath('./../mlpipelines/pipelines'))"
   ]
  },
  {
   "cell_type": "code",
   "execution_count": null,
   "metadata": {},
   "outputs": [],
   "source": [
    "from training.pipeline import get_pipeline"
   ]
  },
  {
   "cell_type": "markdown",
   "metadata": {},
   "source": [
    "***"
   ]
  },
  {
   "cell_type": "code",
   "execution_count": null,
   "metadata": {},
   "outputs": [],
   "source": [
    "logging.basicConfig(level=logging.INFO)\n",
    "LOGGER = logging.getLogger(__name__)"
   ]
  },
  {
   "cell_type": "markdown",
   "metadata": {},
   "source": [
    "***"
   ]
  },
  {
   "cell_type": "markdown",
   "metadata": {},
   "source": [
    "## Global parameters"
   ]
  },
  {
   "cell_type": "code",
   "execution_count": null,
   "metadata": {},
   "outputs": [],
   "source": [
    "account_id = boto3.client('sts').get_caller_identity().get('Account')\n",
    "region = boto3.session.Session().region_name\n",
    "role = get_execution_role()\n",
    "kms_alias = \"ml-kms-dev\"\n",
    "lambdas = {\n",
    "    \"create-compilation-job\": \"\",\n",
    "    \"check-compilation-job\": \"\",\n",
    "}\n",
    "processing_ecr_image_name = \"\"\n",
    "processing_ecr_image_tag = \"latest\"\n",
    "sagemaker_framework_version = \"2.4\"\n",
    "sagemaker_python_version = \"py37\"\n",
    "s3_bucket_name = \"isengard-bpistone-mlops-iot-dev\"\n",
    "s3_processing_input_files_path = \"input/data\"\n",
    "s3_processing_output_files_path = \"output/data\"\n",
    "s3_training_artifact_path = \"artifact/training\"\n",
    "s3_training_artifact_name = \"sourcedir_dnn.tar.gz\"\n",
    "s3_training_input_files_path = \"output/data\"\n",
    "s3_training_output_files_path = \"output/model\""
   ]
  },
  {
   "cell_type": "markdown",
   "metadata": {},
   "source": [
    "***"
   ]
  },
  {
   "cell_type": "markdown",
   "metadata": {},
   "source": [
    "## Training pipeline"
   ]
  },
  {
   "cell_type": "markdown",
   "metadata": {},
   "source": [
    "### Get pipeline definition"
   ]
  },
  {
   "cell_type": "code",
   "execution_count": null,
   "metadata": {},
   "outputs": [],
   "source": [
    "pipeline = get_pipeline(\n",
    "    region,\n",
    "    account_id,\n",
    "    kms_alias,\n",
    "    lambdas,\n",
    "    sagemaker_framework_version,\n",
    "    sagemaker_python_version,\n",
    "    s3_bucket_name,\n",
    "    s3_training_artifact_path,\n",
    "    s3_training_artifact_name,\n",
    "    s3_training_input_files_path,\n",
    "    s3_training_output_files_path\n",
    ")"
   ]
  },
  {
   "cell_type": "markdown",
   "metadata": {},
   "source": [
    "### Create or update SageMaker pipeline"
   ]
  },
  {
   "cell_type": "code",
   "execution_count": null,
   "metadata": {},
   "outputs": [],
   "source": [
    "pipeline.upsert(role_arn=role)"
   ]
  },
  {
   "cell_type": "code",
   "execution_count": null,
   "metadata": {},
   "outputs": [],
   "source": [
    "json.loads(pipeline.definition())"
   ]
  },
  {
   "cell_type": "markdown",
   "metadata": {},
   "source": [
    "### Pipeline parameters"
   ]
  },
  {
   "cell_type": "code",
   "execution_count": null,
   "metadata": {},
   "outputs": [],
   "source": [
    "compilation_input_shape = \"[1, 1, 1, 1]\"\n",
    "input_file_name = \"processed.csv\"\n",
    "instance_type = \"ml.m5.large\"\n",
    "instance_count = 1\n",
    "processing_input_file_name = \"bottle.csv\"\n",
    "processing_instance_count = 1\n",
    "processing_instance_type = \"ml.t3.large\"\n",
    "model_package_group_name = \"mlops-iot-regressor\""
   ]
  },
  {
   "cell_type": "markdown",
   "metadata": {},
   "source": [
    "### Start training pipeline "
   ]
  },
  {
   "cell_type": "code",
   "execution_count": null,
   "metadata": {},
   "outputs": [],
   "source": [
    "execution = pipeline.start(\n",
    "    parameters=dict(\n",
    "        compilation_input_shape=compilation_input_shape,\n",
    "        input_file_name=input_file_name,\n",
    "        model_package_group_name=model_package_group_name,\n",
    "        training_instance_count=instance_count,\n",
    "        training_instance_type=instance_type\n",
    "    )\n",
    ")"
   ]
  },
  {
   "cell_type": "code",
   "execution_count": null,
   "metadata": {},
   "outputs": [],
   "source": [
    "execution.describe()"
   ]
  },
  {
   "cell_type": "code",
   "execution_count": null,
   "metadata": {},
   "outputs": [],
   "source": [
    "execution.list_steps()"
   ]
  }
 ],
 "metadata": {
  "instance_type": "ml.t3.medium",
  "kernelspec": {
   "display_name": "Python 3 (Data Science)",
   "language": "python",
   "name": "python3__SAGEMAKER_INTERNAL__arn:aws:sagemaker:eu-west-1:470317259841:image/datascience-1.0"
  },
  "language_info": {
   "codemirror_mode": {
    "name": "ipython",
    "version": 3
   },
   "file_extension": ".py",
   "mimetype": "text/x-python",
   "name": "python",
   "nbconvert_exporter": "python",
   "pygments_lexer": "ipython3",
   "version": "3.7.10"
  }
 },
 "nbformat": 4,
 "nbformat_minor": 4
}
